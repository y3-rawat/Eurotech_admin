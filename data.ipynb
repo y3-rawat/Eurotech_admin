{
 "cells": [
  {
   "cell_type": "code",
   "execution_count": 1,
   "metadata": {},
   "outputs": [],
   "source": [
    "import pandas as pd"
   ]
  },
  {
   "cell_type": "code",
   "execution_count": 2,
   "metadata": {},
   "outputs": [
    {
     "data": {
      "text/html": [
       "<div>\n",
       "<style scoped>\n",
       "    .dataframe tbody tr th:only-of-type {\n",
       "        vertical-align: middle;\n",
       "    }\n",
       "\n",
       "    .dataframe tbody tr th {\n",
       "        vertical-align: top;\n",
       "    }\n",
       "\n",
       "    .dataframe thead th {\n",
       "        text-align: right;\n",
       "    }\n",
       "</style>\n",
       "<table border=\"1\" class=\"dataframe\">\n",
       "  <thead>\n",
       "    <tr style=\"text-align: right;\">\n",
       "      <th></th>\n",
       "      <th>total_users_visited</th>\n",
       "      <th>Repetative_Users_id</th>\n",
       "      <th>Most_car_viewed_user_id</th>\n",
       "      <th>Dealers_on_webiste</th>\n",
       "      <th>Transections_history</th>\n",
       "      <th>Car_Sold_total</th>\n",
       "      <th>Car_sold_last_month</th>\n",
       "      <th>top_5_cars_viewd</th>\n",
       "      <th>common_issues_on_webiste</th>\n",
       "      <th>most_bids_of_cars</th>\n",
       "    </tr>\n",
       "  </thead>\n",
       "  <tbody>\n",
       "    <tr>\n",
       "      <th>0</th>\n",
       "      <td>534</td>\n",
       "      <td>[1, 2, 4, 3]</td>\n",
       "      <td>[4]</td>\n",
       "      <td>432</td>\n",
       "      <td>{'approved': 3, 'pending': 1}</td>\n",
       "      <td>4321</td>\n",
       "      <td>54</td>\n",
       "      <td>[Ford Mustang, Chevrolet Camaro, BMW X5, Audi ...</td>\n",
       "      <td>[webiste has too much loading time, cars are e...</td>\n",
       "      <td>{'Jaguar': 53421, 'Lamborghini': 4532, 'Porsch...</td>\n",
       "    </tr>\n",
       "  </tbody>\n",
       "</table>\n",
       "</div>"
      ],
      "text/plain": [
       "   total_users_visited Repetative_Users_id Most_car_viewed_user_id  \\\n",
       "0                  534        [1, 2, 4, 3]                     [4]   \n",
       "\n",
       "   Dealers_on_webiste           Transections_history  Car_Sold_total  \\\n",
       "0                 432  {'approved': 3, 'pending': 1}            4321   \n",
       "\n",
       "   Car_sold_last_month                                   top_5_cars_viewd  \\\n",
       "0                   54  [Ford Mustang, Chevrolet Camaro, BMW X5, Audi ...   \n",
       "\n",
       "                            common_issues_on_webiste  \\\n",
       "0  [webiste has too much loading time, cars are e...   \n",
       "\n",
       "                                   most_bids_of_cars  \n",
       "0  {'Jaguar': 53421, 'Lamborghini': 4532, 'Porsch...  "
      ]
     },
     "execution_count": 2,
     "metadata": {},
     "output_type": "execute_result"
    }
   ],
   "source": [
    "pd.read_json(\"Admin_database.json\")"
   ]
  },
  {
   "cell_type": "code",
   "execution_count": null,
   "metadata": {},
   "outputs": [],
   "source": []
  }
 ],
 "metadata": {
  "kernelspec": {
   "display_name": "Python 3",
   "language": "python",
   "name": "python3"
  },
  "language_info": {
   "codemirror_mode": {
    "name": "ipython",
    "version": 3
   },
   "file_extension": ".py",
   "mimetype": "text/x-python",
   "name": "python",
   "nbconvert_exporter": "python",
   "pygments_lexer": "ipython3",
   "version": "3.10.0"
  }
 },
 "nbformat": 4,
 "nbformat_minor": 2
}
